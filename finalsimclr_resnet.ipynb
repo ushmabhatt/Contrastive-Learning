{
  "nbformat": 4,
  "nbformat_minor": 0,
  "metadata": {
    "colab": {
      "name": "finalsimclr-resnet.ipynb",
      "provenance": []
    },
    "kernelspec": {
      "name": "python3",
      "display_name": "Python 3"
    },
    "accelerator": "GPU"
  },
  "cells": [
    {
      "cell_type": "code",
      "metadata": {
        "id": "oWlRJUA38PK-",
        "colab_type": "code",
        "colab": {}
      },
      "source": [
        "# -*- coding: utf-8 -*-\n",
        "\"\"\"\n",
        "Created on Mon Apr 13 22:42:56 2020\n",
        "\n",
        "@author: Ushma\n",
        "\"\"\"\n",
        "\n",
        "import tensorflow as tf\n",
        "from tensorflow import keras\n",
        "from tensorflow.keras import layers\n",
        "import numpy as np                                \n",
        "import matplotlib.pyplot as plt\n",
        "from keras.datasets import cifar10\n",
        "\n",
        "#from ResNet import \n",
        "\n",
        "(train_images, train_labels), (test_images, test_labels) = cifar10.load_data()\n",
        "train_shape = train_images.shape\n",
        "\n",
        "def random_resize_corp(image):\n",
        "    re_size = [32,32]\n",
        "    box= np.array([0,0,1,1])\n",
        "    boxes = box.reshape([1,1,4])\n",
        "    begin, size, bbox_for_draw = tf.image.sample_distorted_bounding_box(tf.shape(image), \n",
        "                                           bounding_boxes=boxes,\n",
        "                                           aspect_ratio_range=[0.75, 1.33], \n",
        "                                           area_range=[0.08, 1.0], max_attempts=100,\n",
        "                                           use_image_if_no_bounding_boxes=True)\n",
        "    random_resize_img =tf.image.resize( tf.slice(image, begin, size), re_size, preserve_aspect_ratio=False)\n",
        "    random_resize_img = tf.dtypes.cast(random_resize_img, dtype=tf.uint8)\n",
        "    \n",
        "    return random_resize_img\n",
        "\n",
        "def color_jitter(x):\n",
        "    # one can also shuffle the order of following augmentations\n",
        "    # each time they are applied.\n",
        "    s= 1.0\n",
        "    x = tf.image.random_brightness(x, max_delta=0.8*s)\n",
        "    x = tf.image.random_contrast(x, lower=1-0.8*s, upper=1+0.8*s)\n",
        "    x = tf.image.random_saturation(x, lower=1-0.8*s, upper=1+0.8*s)\n",
        "    x = tf.image.random_hue(x, max_delta=0.2*s)\n",
        "    #x = tf.clip_by_value(x, 0, 1)\n",
        "    return x\n",
        "\n",
        "def color_drop(x):\n",
        "    x = tf.image.rgb_to_grayscale(x)\n",
        "    x = tf.tile(x, [1, 1, 3])\n",
        "    return x\n",
        "\n",
        "def data_augmentation_2(image):\n",
        "    \n",
        "    number=tf.random.uniform(shape=[],minval= 1, maxval =100)\n",
        "    #print(number)\n",
        "    if(number>=20):\n",
        "        image= color_jitter(image)\n",
        "        \n",
        "    number=tf.random.uniform(shape=[],minval= 1, maxval =100)\n",
        "    if(number>=80):\n",
        "        image= color_drop(image)\n",
        "    return image\n",
        "\n",
        "\n",
        "def gaussian_blur(img, kernel_size=3):\n",
        "    def gauss_kernel(channels, kernel_size, sigma):\n",
        "        ax = tf.range(-kernel_size // 2 + 1.0, kernel_size // 2 + 1.0)\n",
        "        xx, yy = tf.meshgrid(ax, ax)\n",
        "        kernel = tf.exp(-(xx ** 2 + yy ** 2) / (2.0 * sigma ** 2))\n",
        "        kernel = kernel / tf.reduce_sum(kernel)\n",
        "        kernel = tf.tile(kernel[..., tf.newaxis], [1, 1, channels])\n",
        "        return kernel\n",
        "    #print(\"I am here\")\n",
        "    sigma = tf.random.uniform(shape=[],minval= 0.1, maxval =2.0)\n",
        "    gaussian_kernel = gauss_kernel(tf.shape(img)[-1], kernel_size, sigma)\n",
        "    gaussian_kernel = gaussian_kernel[..., tf.newaxis]\n",
        "\n",
        "    return tf.nn.depthwise_conv2d(img, gaussian_kernel, [1, 1, 1, 1],padding='SAME', data_format='NHWC')\n",
        "\n"
      ],
      "execution_count": 0,
      "outputs": []
    },
    {
      "cell_type": "code",
      "metadata": {
        "id": "elJyXz8_8rep",
        "colab_type": "code",
        "outputId": "b5bb13f3-4ad5-4dc6-9a1f-6c13063d4678",
        "colab": {
          "base_uri": "https://localhost:8080/",
          "height": 34
        }
      },
      "source": [
        "\n",
        "for i in range(len(train_images)):\n",
        "    #plt.imshow(train_images[i])\n",
        "    x = random_resize_corp(train_images[i])\n",
        "    #plt.imshow(x)\n",
        "    #print(x)\n",
        "    \n",
        "    x = data_augmentation_2(x)\n",
        "    #plt.imshow(x)\n",
        "    #print(x)\n",
        "    train_images[i]=x\n",
        "\n",
        "train_images  = tf.image.convert_image_dtype(train_images, dtype=tf.float32, saturate=False, name=None)\n",
        "# gaussian_blur_images = gaussian_blur(train_images)\n",
        "#plt.imshow(gaussian_blur_images[1])\n",
        "print(\"Train Images processed\")\n",
        "    \n",
        "\n"
      ],
      "execution_count": 0,
      "outputs": [
        {
          "output_type": "stream",
          "text": [
            "Train Images processed\n"
          ],
          "name": "stdout"
        }
      ]
    },
    {
      "cell_type": "code",
      "metadata": {
        "id": "og5vQgkaI1Bw",
        "colab_type": "code",
        "outputId": "6e325237-b309-4abb-c181-4648d2cf2674",
        "colab": {
          "base_uri": "https://localhost:8080/",
          "height": 34
        }
      },
      "source": [
        "for i in range(len(test_images)):\n",
        "    #plt.imshow(train_images[i])\n",
        "    x = random_resize_corp(test_images[i])\n",
        "    #plt.imshow(x)\n",
        "    #print(x)\n",
        "    \n",
        "    x = data_augmentation_2(x)\n",
        "    #plt.imshow(x)\n",
        "    #print(x)\n",
        "    test_images[i]=x\n",
        "\n",
        "test_images  = tf.image.convert_image_dtype(test_images, dtype=tf.float32, saturate=False, name=None)\n",
        "test_processed_images = gaussian_blur(test_images)\n",
        "print(\"Test Images processed\")\n",
        "\n"
      ],
      "execution_count": 0,
      "outputs": [
        {
          "output_type": "stream",
          "text": [
            "Test Images processed\n"
          ],
          "name": "stdout"
        }
      ]
    },
    {
      "cell_type": "code",
      "metadata": {
        "id": "Y4nSLDvMI_dB",
        "colab_type": "code",
        "colab": {}
      },
      "source": [
        "#plt.imshow(test_processed_images[1])\n",
        "train_dataset = (gaussian_blur_images, train_labels)\n",
        "test_dataset = (test_processed_images, test_labels)"
      ],
      "execution_count": 0,
      "outputs": []
    },
    {
      "cell_type": "code",
      "metadata": {
        "id": "P1RTh2JqCcmp",
        "colab_type": "code",
        "colab": {}
      },
      "source": [
        "from tensorflow.keras.applications.resnet50 import ResNet50, preprocess_input\n",
        "import tensorflow.keras as keras\n",
        "from tensorflow.keras import models\n",
        "from tensorflow.keras import layers\n",
        "from tensorflow.keras import optimizers\n",
        "import tensorflow as tf\n",
        "from keras.utils import np_utils\n",
        "from keras.models import load_model\n",
        "from keras.datasets import cifar10\n",
        "from keras.preprocessing import image\n",
        "from keras import backend as K\n",
        "import numpy as np\n",
        "import matplotlib.pyplot as plt\n",
        "from PIL import Image\n",
        "import cv2"
      ],
      "execution_count": 0,
      "outputs": []
    },
    {
      "cell_type": "code",
      "metadata": {
        "id": "8mdGhwXZxgFR",
        "colab_type": "code",
        "outputId": "9d3cd0ed-06c5-4d4d-8f2a-c135981a029b",
        "colab": {
          "base_uri": "https://localhost:8080/",
          "height": 50
        }
      },
      "source": [
        "# New Method\n",
        "\n",
        "(x_train, y_train), (x_test, y_test) = cifar10.load_data()\n",
        "\n",
        "x_train = x_train / 255.0\n",
        "x_test = x_test / 255.0\n",
        "\n",
        "y_train = np_utils.to_categorical(y_train, 10)\n",
        "y_test = np_utils.to_categorical(y_test, 10)\n",
        "input_shape = x_train[0].shape\n",
        "print(x_train.shape)\n",
        "print(x_test.shape)\n",
        "\n",
        "#plt.imshow(test_processed_images[1])\n",
        "# train_dataset = (gaussian_blur_images, train_labels)\n",
        "# test_dataset = (test_processed_images, test_labels)\n"
      ],
      "execution_count": 0,
      "outputs": [
        {
          "output_type": "stream",
          "text": [
            "(50000, 32, 32, 3)\n",
            "(10000, 32, 32, 3)\n"
          ],
          "name": "stdout"
        }
      ]
    },
    {
      "cell_type": "code",
      "metadata": {
        "id": "nZ-ia4XFjkAn",
        "colab_type": "code",
        "colab": {}
      },
      "source": [
        "batch_size=128\n",
        "out_dim=128\n",
        "s= 1\n",
        "temperature= 0.5\n",
        "use_cosine_similarity= True\n",
        "epochs= 3"
      ],
      "execution_count": 0,
      "outputs": []
    },
    {
      "cell_type": "code",
      "metadata": {
        "id": "AwaHuW8HZlZo",
        "colab_type": "code",
        "colab": {}
      },
      "source": [
        "\n",
        "def ResNetSimCLR(input_shape, out_dim, base_model='resnet50'):\n",
        "    inputs = tf.keras.layers.Input(shape=(input_shape))\n",
        "\n",
        "    base_encoder = tf.keras.applications.ResNet50(include_top=False, weights=None, input_tensor=None,\n",
        "                                                  input_shape=None, pooling='avg')\n",
        "    base_encoder.training = True\n",
        "    h = base_encoder(inputs)\n",
        "\n",
        "    # projection head\n",
        "    x = tf.keras.layers.Dense(units=out_dim)(h)\n",
        "    x = tf.keras.layers.Activation('relu')(x)\n",
        "    x = tf.keras.layers.Dense(units=out_dim)(x)\n",
        "\n",
        "    return tf.keras.Model(inputs=inputs, outputs=[h, x])\n"
      ],
      "execution_count": 0,
      "outputs": []
    },
    {
      "cell_type": "code",
      "metadata": {
        "id": "K_bieAEDxhvZ",
        "colab_type": "code",
        "outputId": "d206db08-a79c-4275-c779-1af9434ec104",
        "colab": {
          "base_uri": "https://localhost:8080/",
          "height": 249
        }
      },
      "source": [
        "model = ResNetSimCLR(input_shape=input_shape, out_dim=out_dim)\n",
        "\n",
        "criterion = tf.keras.losses.SparseCategoricalCrossentropy(from_logits=True, reduction=tf.keras.losses.Reduction.SUM)\n",
        "optimizer = tf.keras.optimizers.Adam(3e-4)\n",
        "\n",
        "gaussian_blur_images = tf.convert_to_tensor(gaussian_blur_images, dtype=gaussian_blur_images.dtype)\n",
        "train_images = train_images.repeat(epochs)\n",
        "\n",
        "train_images = train_images.shuffle(4096)\n",
        "train_images = train_images.batch(batch_size, drop_remainder=True)\n",
        "train_images = train_images.prefetch(tf.data.experimental.AUTOTUNE)"
      ],
      "execution_count": 0,
      "outputs": [
        {
          "output_type": "error",
          "ename": "AttributeError",
          "evalue": "ignored",
          "traceback": [
            "\u001b[0;31m---------------------------------------------------------------------------\u001b[0m",
            "\u001b[0;31mAttributeError\u001b[0m                            Traceback (most recent call last)",
            "\u001b[0;32m<ipython-input-35-14c6a2127684>\u001b[0m in \u001b[0;36m<module>\u001b[0;34m()\u001b[0m\n\u001b[1;32m      5\u001b[0m \u001b[0;34m\u001b[0m\u001b[0m\n\u001b[1;32m      6\u001b[0m \u001b[0mgaussian_blur_images\u001b[0m \u001b[0;34m=\u001b[0m \u001b[0mtf\u001b[0m\u001b[0;34m.\u001b[0m\u001b[0mconvert_to_tensor\u001b[0m\u001b[0;34m(\u001b[0m\u001b[0mgaussian_blur_images\u001b[0m\u001b[0;34m,\u001b[0m \u001b[0mdtype\u001b[0m\u001b[0;34m=\u001b[0m\u001b[0mgaussian_blur_images\u001b[0m\u001b[0;34m.\u001b[0m\u001b[0mdtype\u001b[0m\u001b[0;34m)\u001b[0m\u001b[0;34m\u001b[0m\u001b[0;34m\u001b[0m\u001b[0m\n\u001b[0;32m----> 7\u001b[0;31m \u001b[0mtrain_images\u001b[0m \u001b[0;34m=\u001b[0m \u001b[0mtrain_images\u001b[0m\u001b[0;34m.\u001b[0m\u001b[0mrepeat\u001b[0m\u001b[0;34m(\u001b[0m\u001b[0mepochs\u001b[0m\u001b[0;34m)\u001b[0m\u001b[0;34m\u001b[0m\u001b[0;34m\u001b[0m\u001b[0m\n\u001b[0m\u001b[1;32m      8\u001b[0m \u001b[0;34m\u001b[0m\u001b[0m\n\u001b[1;32m      9\u001b[0m \u001b[0mtrain_images\u001b[0m \u001b[0;34m=\u001b[0m \u001b[0mtrain_images\u001b[0m\u001b[0;34m.\u001b[0m\u001b[0mshuffle\u001b[0m\u001b[0;34m(\u001b[0m\u001b[0;36m4096\u001b[0m\u001b[0;34m)\u001b[0m\u001b[0;34m\u001b[0m\u001b[0;34m\u001b[0m\u001b[0m\n",
            "\u001b[0;31mAttributeError\u001b[0m: 'tensorflow.python.framework.ops.EagerTensor' object has no attribute 'repeat'"
          ]
        }
      ]
    },
    {
      "cell_type": "code",
      "metadata": {
        "id": "fl-G5mh1hD03",
        "colab_type": "code",
        "colab": {}
      },
      "source": [
        "def train_step(xis, xjs):\n",
        "    with tf.GradientTape() as tape:\n",
        "        ris, zis = model(xis)\n",
        "        rjs, zjs = model(xjs)\n",
        "\n",
        "        # normalize projection feature vectors\n",
        "        zis = tf.math.l2_normalize(zis, axis=1)\n",
        "        zjs = tf.math.l2_normalize(zjs, axis=1)\n",
        "\n",
        "        # tf.summary.histogram('zis', zis, step=optimizer.iterations)\n",
        "        # tf.summary.histogram('zjs', zjs, step=optimizer.iterations)\n",
        "\n",
        "        l_pos = sim_func_dim1(zis, zjs)\n",
        "        l_pos = tf.reshape(l_pos, (config['batch_size'], 1))\n",
        "        l_pos /= config['temperature']\n",
        "        # assert l_pos.shape == (config['batch_size'], 1), \"l_pos shape not valid\" + str(l_pos.shape)  # [N,1]\n",
        "\n",
        "        negatives = tf.concat([zjs, zis], axis=0)\n",
        "\n",
        "        loss = 0\n",
        "\n",
        "        for positives in [zis, zjs]:\n",
        "            l_neg = sim_func_dim2(positives, negatives)\n",
        "\n",
        "            labels = tf.zeros(config['batch_size'], dtype=tf.int32)\n",
        "\n",
        "            l_neg = tf.boolean_mask(l_neg, negative_mask)\n",
        "            l_neg = tf.reshape(l_neg, (config['batch_size'], -1))\n",
        "            l_neg /= config['temperature']\n",
        "\n",
        "            # assert l_neg.shape == (\n",
        "            #     config['batch_size'], 2 * (config['batch_size'] - 1)), \"Shape of negatives not expected.\" + str(\n",
        "            #     l_neg.shape)\n",
        "            logits = tf.concat([l_pos, l_neg], axis=1)  # [N,K+1]\n",
        "            loss += criterion(y_pred=logits, y_true=labels)\n",
        "\n",
        "        loss = loss / (2 * config['batch_size'])\n",
        "        tf.summary.scalar('loss', loss, step=optimizer.iterations)\n",
        "\n",
        "    gradients = tape.gradient(loss, model.trainable_variables)\n",
        "    optimizer.apply_gradients(zip(gradients, model.trainable_variables))"
      ],
      "execution_count": 0,
      "outputs": []
    },
    {
      "cell_type": "code",
      "metadata": {
        "id": "-6_kyP78ZlMd",
        "colab_type": "code",
        "outputId": "3bae4aa9-7fe5-4462-f58a-2dd7f284f81c",
        "colab": {
          "base_uri": "https://localhost:8080/",
          "height": 180
        }
      },
      "source": [
        "for xis, xjs in train_dataset:\n",
        "    train_step(xis, xjs)"
      ],
      "execution_count": 0,
      "outputs": [
        {
          "output_type": "error",
          "ename": "ValueError",
          "evalue": "ignored",
          "traceback": [
            "\u001b[0;31m---------------------------------------------------------------------------\u001b[0m",
            "\u001b[0;31mValueError\u001b[0m                                Traceback (most recent call last)",
            "\u001b[0;32m<ipython-input-14-f89f1c75643b>\u001b[0m in \u001b[0;36m<module>\u001b[0;34m()\u001b[0m\n\u001b[0;32m----> 1\u001b[0;31m \u001b[0;32mfor\u001b[0m \u001b[0mxis\u001b[0m\u001b[0;34m,\u001b[0m \u001b[0mxjs\u001b[0m \u001b[0;32min\u001b[0m \u001b[0mtrain_dataset\u001b[0m\u001b[0;34m:\u001b[0m\u001b[0;34m\u001b[0m\u001b[0;34m\u001b[0m\u001b[0m\n\u001b[0m\u001b[1;32m      2\u001b[0m     \u001b[0mtrain_step\u001b[0m\u001b[0;34m(\u001b[0m\u001b[0mxis\u001b[0m\u001b[0;34m,\u001b[0m \u001b[0mxjs\u001b[0m\u001b[0;34m)\u001b[0m\u001b[0;34m\u001b[0m\u001b[0;34m\u001b[0m\u001b[0m\n",
            "\u001b[0;31mValueError\u001b[0m: too many values to unpack (expected 2)"
          ]
        }
      ]
    },
    {
      "cell_type": "code",
      "metadata": {
        "id": "wFYWoNd8ZlBS",
        "colab_type": "code",
        "colab": {}
      },
      "source": [
        ""
      ],
      "execution_count": 0,
      "outputs": []
    },
    {
      "cell_type": "code",
      "metadata": {
        "id": "CzjmVCmYZkx8",
        "colab_type": "code",
        "colab": {}
      },
      "source": [
        ""
      ],
      "execution_count": 0,
      "outputs": []
    }
  ]
}